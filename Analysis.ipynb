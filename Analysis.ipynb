{
 "cells": [
  {
   "cell_type": "markdown",
   "metadata": {},
   "source": [
    "# Analysis"
   ]
  },
  {
   "cell_type": "markdown",
   "metadata": {},
   "source": [
    "![image.png](main.png)"
   ]
  },
  {
   "cell_type": "code",
   "execution_count": 28,
   "metadata": {},
   "outputs": [],
   "source": [
    "import numpy as np\n",
    "import pandas as pd\n",
    "import cairocffi\n",
    "import itertools\n",
    "import string"
   ]
  },
  {
   "cell_type": "markdown",
   "metadata": {},
   "source": [
    "In this workbook, I will read the data files created from using the Spotify API and build a network of genres from their co-ocurrence matrix. Whenever 2 genres are tagged for the same artist, they will be added as an edge to the network, additionally the network will be weighted by the count of times 2 genres are tagged together"
   ]
  },
  {
   "cell_type": "code",
   "execution_count": 7,
   "metadata": {},
   "outputs": [
    {
     "data": {
      "text/plain": [
       "87709"
      ]
     },
     "execution_count": 7,
     "metadata": {},
     "output_type": "execute_result"
    }
   ],
   "source": [
    "#Reading in artists data and removing artists without any genres tagged\n",
    "artists = pd.read_csv('artists_nodes_gephi.csv')\n",
    "artists = artists.loc[artists['genres'] != '[]']\n",
    "len(artists)"
   ]
  },
  {
   "cell_type": "code",
   "execution_count": 8,
   "metadata": {},
   "outputs": [
    {
     "data": {
      "text/html": [
       "<div>\n",
       "<style scoped>\n",
       "    .dataframe tbody tr th:only-of-type {\n",
       "        vertical-align: middle;\n",
       "    }\n",
       "\n",
       "    .dataframe tbody tr th {\n",
       "        vertical-align: top;\n",
       "    }\n",
       "\n",
       "    .dataframe thead th {\n",
       "        text-align: right;\n",
       "    }\n",
       "</style>\n",
       "<table border=\"1\" class=\"dataframe\">\n",
       "  <thead>\n",
       "    <tr style=\"text-align: right;\">\n",
       "      <th></th>\n",
       "      <th>followers</th>\n",
       "      <th>genres</th>\n",
       "      <th>spotify id</th>\n",
       "      <th>Label</th>\n",
       "      <th>popularity</th>\n",
       "      <th>uri</th>\n",
       "      <th>strgnrs</th>\n",
       "    </tr>\n",
       "  </thead>\n",
       "  <tbody>\n",
       "    <tr>\n",
       "      <th>116550</th>\n",
       "      <td>6205</td>\n",
       "      <td>['gospel r&amp;b']</td>\n",
       "      <td>2VNVer52cmYJdBox2e8N6t</td>\n",
       "      <td>Debra Killings</td>\n",
       "      <td>10</td>\n",
       "      <td>spotify:artist:2VNVer52cmYJdBox2e8N6t</td>\n",
       "      <td>gospel r&amp;b</td>\n",
       "    </tr>\n",
       "    <tr>\n",
       "      <th>128210</th>\n",
       "      <td>80413</td>\n",
       "      <td>['hip hop tuga', 'trap tuga']</td>\n",
       "      <td>2DEfqyWjAMIfKYMXb1V8L1</td>\n",
       "      <td>Nenny</td>\n",
       "      <td>41</td>\n",
       "      <td>spotify:artist:2DEfqyWjAMIfKYMXb1V8L1</td>\n",
       "      <td>hip hop tuga_trap tuga</td>\n",
       "    </tr>\n",
       "    <tr>\n",
       "      <th>75928</th>\n",
       "      <td>30740</td>\n",
       "      <td>['korean pop']</td>\n",
       "      <td>4Kw6Puq72YDjXvVBrBkdw3</td>\n",
       "      <td>Ha Yea Song</td>\n",
       "      <td>38</td>\n",
       "      <td>spotify:artist:4Kw6Puq72YDjXvVBrBkdw3</td>\n",
       "      <td>korean pop</td>\n",
       "    </tr>\n",
       "    <tr>\n",
       "      <th>118229</th>\n",
       "      <td>17025</td>\n",
       "      <td>['christian hip hop', 'christian trap']</td>\n",
       "      <td>0Y2tgcJdamwlQDZ6HwecWb</td>\n",
       "      <td>Alex Faith</td>\n",
       "      <td>19</td>\n",
       "      <td>spotify:artist:0Y2tgcJdamwlQDZ6HwecWb</td>\n",
       "      <td>christian hip hop_christian trap</td>\n",
       "    </tr>\n",
       "    <tr>\n",
       "      <th>144243</th>\n",
       "      <td>3609</td>\n",
       "      <td>['dmv rap']</td>\n",
       "      <td>7iJYwPCkyVoZCINa8YtvtI</td>\n",
       "      <td>Lil Xelly</td>\n",
       "      <td>30</td>\n",
       "      <td>spotify:artist:7iJYwPCkyVoZCINa8YtvtI</td>\n",
       "      <td>dmv rap</td>\n",
       "    </tr>\n",
       "  </tbody>\n",
       "</table>\n",
       "</div>"
      ],
      "text/plain": [
       "        followers                                   genres  \\\n",
       "116550       6205                           ['gospel r&b']   \n",
       "128210      80413            ['hip hop tuga', 'trap tuga']   \n",
       "75928       30740                           ['korean pop']   \n",
       "118229      17025  ['christian hip hop', 'christian trap']   \n",
       "144243       3609                              ['dmv rap']   \n",
       "\n",
       "                    spotify id           Label  popularity  \\\n",
       "116550  2VNVer52cmYJdBox2e8N6t  Debra Killings          10   \n",
       "128210  2DEfqyWjAMIfKYMXb1V8L1           Nenny          41   \n",
       "75928   4Kw6Puq72YDjXvVBrBkdw3     Ha Yea Song          38   \n",
       "118229  0Y2tgcJdamwlQDZ6HwecWb      Alex Faith          19   \n",
       "144243  7iJYwPCkyVoZCINa8YtvtI       Lil Xelly          30   \n",
       "\n",
       "                                          uri  \\\n",
       "116550  spotify:artist:2VNVer52cmYJdBox2e8N6t   \n",
       "128210  spotify:artist:2DEfqyWjAMIfKYMXb1V8L1   \n",
       "75928   spotify:artist:4Kw6Puq72YDjXvVBrBkdw3   \n",
       "118229  spotify:artist:0Y2tgcJdamwlQDZ6HwecWb   \n",
       "144243  spotify:artist:7iJYwPCkyVoZCINa8YtvtI   \n",
       "\n",
       "                                 strgnrs  \n",
       "116550                        gospel r&b  \n",
       "128210            hip hop tuga_trap tuga  \n",
       "75928                         korean pop  \n",
       "118229  christian hip hop_christian trap  \n",
       "144243                           dmv rap  "
      ]
     },
     "execution_count": 8,
     "metadata": {},
     "output_type": "execute_result"
    }
   ],
   "source": [
    "artists.sample(5)"
   ]
  },
  {
   "cell_type": "markdown",
   "metadata": {},
   "source": [
    "As you can see, the genres column is a list of tags for each artist. To build a network from this column I will first, separate the tag and count all unique genres and every combination of genres that occur in the dataset. From this list of nodes and edges, I will have a weghted network"
   ]
  },
  {
   "cell_type": "code",
   "execution_count": 10,
   "metadata": {},
   "outputs": [],
   "source": [
    "gnrs = []\n",
    "for i in artists.index:\n",
    "    tmpdict = {'genre': artists['strgnrs'][i].split(\"_\"),'popularity': artists['popularity'][i],\n",
    "              'followers': artists['followers'][i]}\n",
    "    gnrs.append(tmpdict)\n",
    "c = [{'genres': list(itertools.combinations(i['genre'],2)), 'popularity': i['popularity'], 'followers': i['followers']} for i in gnrs]\n"
   ]
  },
  {
   "cell_type": "code",
   "execution_count": 11,
   "metadata": {},
   "outputs": [],
   "source": [
    "#Creating a list of edges from the combinations created above\n",
    "edges = [{'edge': j, 'population': i['popularity'],'followers': i['followers']}  for i in c for j in i['genres']]\n",
    "edges = pd.DataFrame.from_dict(edges)\n",
    "edges = pd.DataFrame(edges.groupby(['edge']).agg(['mean','count']))\n",
    "edges.columns = ['mean popularity','count','mean followers', 'all count']\n",
    "edges = edges.reset_index()\n",
    "edges = edges[['edge','mean popularity','count','mean followers']]\n"
   ]
  },
  {
   "cell_type": "code",
   "execution_count": 12,
   "metadata": {},
   "outputs": [],
   "source": [
    "nodes = [{'node': j, 'population': i['popularity'],'followers': i['followers']}  for i in gnrs for j in i['genre']]\n",
    "nodes = pd.DataFrame.from_dict(nodes)\n",
    "nodes = pd.DataFrame(nodes.groupby(['node']).agg(['mean','count']))\n",
    "nodes.columns = ['mean popularity','count','mean followers', 'all count']\n",
    "nodes = nodes.reset_index()\n",
    "nodes = nodes[['node','mean popularity','count','mean followers']]\n",
    "# nodes = nodes[72:].reset_index(drop = True)"
   ]
  },
  {
   "cell_type": "code",
   "execution_count": 13,
   "metadata": {},
   "outputs": [],
   "source": [
    "# Create graph\n",
    "g = Graph()\n",
    "g.add_vertices(nodes['node'])\n",
    "g.add_edges(edges['edge'])\n",
    "g.es['weight'] = edges['count']\n",
    "g.es['popularity'] = edges['mean popularity']\n",
    "g.es['followers'] = edges['mean followers']\n",
    "g.vs['weight'] = nodes['count']\n",
    "g.vs['popularity'] = nodes['mean popularity']\n",
    "g.vs['followers'] = nodes['mean followers']\n",
    "g.to_undirected()"
   ]
  },
  {
   "cell_type": "markdown",
   "metadata": {},
   "source": [
    "## Understanding the Network"
   ]
  },
  {
   "cell_type": "markdown",
   "metadata": {},
   "source": [
    "The network now has 5443 vertices and a pretty low density. Lower densities are typical as the network gets bigger."
   ]
  },
  {
   "cell_type": "code",
   "execution_count": 14,
   "metadata": {},
   "outputs": [
    {
     "name": "stdout",
     "output_type": "stream",
     "text": [
      "Number of vertices: 5443\n",
      "Number of edges: 42518\n",
      "Density of the graph: 0.0028708199229960183\n"
     ]
    }
   ],
   "source": [
    "print(\"Number of vertices:\", g.vcount())\n",
    "print(\"Number of edges:\", g.ecount())\n",
    "print(\"Density of the graph:\", 2*g.ecount()/(g.vcount()*(g.vcount()-1)))"
   ]
  },
  {
   "cell_type": "markdown",
   "metadata": {},
   "source": [
    "Below we can see that the average degree is 23.91, while the max degree is pretty high. The top 10 vertices by degree are shown below. \"Art Pop\" seems to be the most connected genre. This would make more sense obnce you see the network, as it makes sense that a ambiguous, experimental genre like Art Pop would be associated with a wide variety of genres. The weighted degree which takes into account the edge weights shows a slightly different picture, we see that Rock seems to have the highest weighted degree. This is the metric we will use in our graph visualization."
   ]
  },
  {
   "cell_type": "code",
   "execution_count": 15,
   "metadata": {},
   "outputs": [
    {
     "name": "stdout",
     "output_type": "stream",
     "text": [
      "Average degree: 15.623002020944332\n",
      "Maximum degree: 188\n",
      "Vertex ID with the maximum degree: 2405\n"
     ]
    }
   ],
   "source": [
    "degrees = []\n",
    "total = 0\n",
    "nodelength = len(nodes)\n",
    "\n",
    "for n in range(nodelength):\n",
    "    neighbours = g.neighbors(n, mode='ALL')\n",
    "    total += len(neighbours)\n",
    "    degrees.append(len(neighbours))\n",
    "    \n",
    "print(\"Average degree:\", total/nodelength)\n",
    "print(\"Maximum degree:\", max(degrees))\n",
    "print(\"Vertex ID with the maximum degree:\", degrees.index(max(degrees)))"
   ]
  },
  {
   "cell_type": "code",
   "execution_count": 16,
   "metadata": {
    "scrolled": false
   },
   "outputs": [
    {
     "name": "stdout",
     "output_type": "stream",
     "text": [
      "Vertex: indietronica, Degree: 188\n",
      "Vertex: art pop, Degree: 185\n",
      "Vertex: rock, Degree: 179\n",
      "Vertex: metal, Degree: 176\n",
      "Vertex: alternative rock, Degree: 176\n",
      "Vertex: indie rock, Degree: 174\n",
      "Vertex: chamber pop, Degree: 169\n",
      "Vertex: singer-songwriter, Degree: 166\n",
      "Vertex: noise pop, Degree: 164\n",
      "Vertex: post-metal, Degree: 162\n"
     ]
    }
   ],
   "source": [
    "degreever = sorted(zip(g.degree(),g.vs), reverse = True)\n",
    "for i in degreever[:10]:\n",
    "    print(\"Vertex: \"+i[1]['name']+\", Degree: \"+str(i[0]))"
   ]
  },
  {
   "cell_type": "code",
   "execution_count": 17,
   "metadata": {},
   "outputs": [
    {
     "name": "stdout",
     "output_type": "stream",
     "text": [
      "Vertex: rock, Weighted Degree: 1474.0\n",
      "Vertex: classic rock, Weighted Degree: 1453.0\n",
      "Vertex: singer-songwriter, Weighted Degree: 1360.0\n",
      "Vertex: album rock, Weighted Degree: 1315.0\n",
      "Vertex: soft rock, Weighted Degree: 1286.0\n",
      "Vertex: mellow gold, Weighted Degree: 1243.0\n",
      "Vertex: hard rock, Weighted Degree: 1204.0\n",
      "Vertex: country rock, Weighted Degree: 1034.0\n",
      "Vertex: metal, Weighted Degree: 998.0\n",
      "Vertex: electro house, Weighted Degree: 997.0\n"
     ]
    }
   ],
   "source": [
    "weights = sorted(zip(g.strength(weights=g.es[\"weight\"]),g.vs), reverse = True)\n",
    "for i in weights[:10]:\n",
    "    print(\"Vertex: \"+i[1]['name']+\", Weighted Degree: \"+str(i[0]))"
   ]
  },
  {
   "cell_type": "markdown",
   "metadata": {},
   "source": [
    "The distribution of degree is heavily right-skewed which is typical of real-world networks. The curve could also be close to a power-law distribution with alpha between 2 and 3, in which case it would be a Scale-Free network, I tried using the Kolmogorov-Smirnoff test to check if the data fit a power law distribution, but the hypothesis was rejected, so this isn't really a scale-free network"
   ]
  },
  {
   "cell_type": "code",
   "execution_count": 18,
   "metadata": {},
   "outputs": [
    {
     "data": {
      "image/png": "[encoded data removed]",
      "text/plain": [
       "<Figure size 432x288 with 1 Axes>"
      ]
     },
     "metadata": {
      "needs_background": "light"
     },
     "output_type": "display_data"
    }
   ],
   "source": [
    "import matplotlib.pyplot as plt\n",
    "plt.hist(g.degree(),bins = range(0,max(g.degree()),5))\n",
    "plt.title(\"Distribution of Degree\")\n",
    "plt.xlabel(\"Degree\")\n",
    "plt.ylabel(\"Count\")\n",
    "plt.show()"
   ]
  },
  {
   "cell_type": "code",
   "execution_count": 19,
   "metadata": {},
   "outputs": [
    {
     "name": "stdout",
     "output_type": "stream",
     "text": [
      "Fitted power-law distribution on discrete data\n",
      "\n",
      "Exponent (alpha)  = 2.890287\n",
      "Cutoff (xmin)     = 30.000000\n",
      "\n",
      "Log-likelihood    = -3494.375553\n",
      "\n",
      "H0: data was drawn from the fitted distribution\n",
      "\n",
      "KS test statistic = 0.058566\n",
      "p-value           = 0.000000\n",
      "\n",
      "H0 rejected at significance level 0.05\n"
     ]
    }
   ],
   "source": [
    "result = power_law_fit(g.degree())\n",
    "print(result.summary())"
   ]
  },
  {
   "cell_type": "markdown",
   "metadata": {},
   "source": [
    "Betweenness Centrality and Page Rank are 2 other measures that help us understand which nodes are most important for the flow of information. Betweenness Centrality is based on Shortest Paths from the node to all the other nodes and PageRank was the first algortihm used in google and was invented by its founders. It basically gives a probability distribution that details the likelood of landing at a given node (or genre, or webpage) when a person randomly clicks on nodes linked to their current node. "
   ]
  },
  {
   "cell_type": "code",
   "execution_count": 20,
   "metadata": {},
   "outputs": [
    {
     "name": "stdout",
     "output_type": "stream",
     "text": [
      "Vertex: downtempo, Betweenness: 408313.94172896835\n",
      "Vertex: latin alternative, Betweenness: 362312.4317116179\n",
      "Vertex: pop, Betweenness: 325762.49155542685\n",
      "Vertex: world, Betweenness: 289266.14175551507\n",
      "Vertex: indietronica, Betweenness: 285967.47664904565\n",
      "Vertex: laboratorio, Betweenness: 282556.2355543548\n",
      "Vertex: conscious hip hop, Betweenness: 239710.94931203555\n",
      "Vertex: alternative r&b, Betweenness: 239609.9670760477\n",
      "Vertex: compositional ambient, Betweenness: 237691.93496925494\n",
      "Vertex: metropopolis, Betweenness: 234385.05815207065\n"
     ]
    }
   ],
   "source": [
    "betweenness = sorted(zip(g.betweenness(directed = False, weights=g.es[\"weight\"]),g.vs), reverse = True)\n",
    "for i in betweenness[:10]:\n",
    "    print(\"Vertex: \"+i[1]['name']+\", Betweenness: \"+str(i[0]))"
   ]
  },
  {
   "cell_type": "code",
   "execution_count": 21,
   "metadata": {},
   "outputs": [
    {
     "name": "stdout",
     "output_type": "stream",
     "text": [
      "Vertex: classical performance, Page Rank: 0.0016797909415255834\n",
      "Vertex: indietronica, Page Rank: 0.0013784436219411716\n",
      "Vertex: latin alternative, Page Rank: 0.0013697574893111574\n",
      "Vertex: art pop, Page Rank: 0.0013347305433534407\n",
      "Vertex: afropop, Page Rank: 0.0012343998231619576\n",
      "Vertex: electronica, Page Rank: 0.0012124585918531906\n",
      "Vertex: chamber pop, Page Rank: 0.0012072158938527915\n",
      "Vertex: indie rock, Page Rank: 0.0012013731077348173\n",
      "Vertex: rock, Page Rank: 0.001174278914966116\n",
      "Vertex: alternative rock, Page Rank: 0.001161136066941991\n"
     ]
    }
   ],
   "source": [
    "pgrnk = sorted(zip(g.pagerank(directed = False, weights=g.es[\"weight\"]),g.vs), reverse = True)\n",
    "for i in pgrnk[:10]:\n",
    "    print(\"Vertex: \"+i[1]['name']+\", Page Rank: \"+str(i[0]))"
   ]
  },
  {
   "cell_type": "markdown",
   "metadata": {},
   "source": [
    "## Community Detection"
   ]
  },
  {
   "cell_type": "markdown",
   "metadata": {},
   "source": [
    "In this section, I have tried to run multiple community detection models and compared them against each other. I am not going to go into detail into the algorithms, but one thing to know is modularity which is a measure used to understand how well the communities are strucured. Since this is usupervised learning, we can't have one measure that gives us an exact understanding of close to the truth the algorithm is, however, modularity is a close estimator of tight our communities are. \n",
    "\n",
    "$$Q = \\sum_{i = 1}^{k}{(e_{ii}-a_{i}^2)}$$\n",
    "where $e_{ii}$ is the probability that an edge would fall in module i and $a_{i}^2$ is the probabilty that a random edge would into a module i. Hence, networks with high modularity wouuld mean that there are dense connections between the nodes within modules but sparse connections between nodes in different modules. Modularity isn't perfect, however, it suffers a resolution limit (when there are communities within communities). "
   ]
  },
  {
   "cell_type": "code",
   "execution_count": 22,
   "metadata": {},
   "outputs": [],
   "source": [
    "models = {}\n",
    "leiden1 = g.community_leiden(objective_function = 'modularity')\n",
    "models[\"leiden1\"] = leiden1\n",
    "leiden2 = g.community_leiden(objective_function = 'CPM',weights=g.es[\"weight\"])\n",
    "models[\"leiden2\"] = leiden2\n",
    "wtrap = g.community_walktrap(weights=g.es[\"weight\"])\n",
    "clust=wtrap.as_clustering()\n",
    "models[\"clust\"] = clust\n",
    "infomap = g.community_infomap(edge_weights=g.es[\"weight\"], vertex_weights = g.vs['weight'])\n",
    "models[\"infomap\"] = infomap\n",
    "labelprop = g.community_label_propagation(weights=g.es[\"weight\"])\n",
    "models[\"labelprop\"] = labelprop\n",
    "multilevel = g.community_multilevel(weights=g.es[\"weight\"])\n",
    "models[\"multilevel\"] = multilevel"
   ]
  },
  {
   "cell_type": "markdown",
   "metadata": {},
   "source": [
    "We can see that the Multilevel Algorithm gives the highest modularity. Multilevel Algorithm maximises the modularity of the network by considered a complete network with the same ertices and solving for a minimum cut problem, Multilevel Modularity also trie to solve for the resolution problem by providing different levels of cuts. I have also tried to compare the different community structures obtained by calculating the NMI (Normalised Mutual Information) of each of the community structures obtained, NMI of 1 means the structues are the exact same and nmi of 0 means they are completely different, since all the structues have nmi of over 0.5, we can possibly say that there is an underlying (if loose) structure and that our modularity isn't high through chance."
   ]
  },
  {
   "cell_type": "code",
   "execution_count": 23,
   "metadata": {},
   "outputs": [
    {
     "name": "stdout",
     "output_type": "stream",
     "text": [
      "Modularity by leiden1: 0.6653764307150423\n",
      "Number of clusters according to leiden1: 326\n",
      "Modularity by leiden2: 0.573788186194145\n",
      "Number of clusters according to leiden2: 2788\n",
      "Modularity by clust: 0.7049155437262749\n",
      "Number of clusters according to clust: 944\n",
      "Modularity by infomap: 0.7066805862273645\n",
      "Number of clusters according to infomap: 585\n",
      "Modularity by labelprop: 0.6765687931976676\n",
      "Number of clusters according to labelprop: 630\n",
      "Modularity by multilevel: 0.7769920422051722\n",
      "Number of clusters according to multilevel: 342\n"
     ]
    }
   ],
   "source": [
    "for mod in models.items():\n",
    "    print(\"Modularity by \"+ mod[0]+\": \"+str(mod[1].modularity))\n",
    "    print(\"Number of clusters according to \"+mod[0]+\": \"+str(len(mod[1])))"
   ]
  }
 ],
 "metadata": {
  "kernelspec": {
   "display_name": "Python 3 (ipykernel)",
   "language": "python",
   "name": "python3"
  },
  "language_info": {
   "codemirror_mode": {
    "name": "ipython",
    "version": 3
   },
   "file_extension": ".py",
   "mimetype": "text/x-python",
   "name": "python",
   "nbconvert_exporter": "python",
   "pygments_lexer": "ipython3",
   "version": "3.9.12"
  }
 },
 "nbformat": 4,
 "nbformat_minor": 4
}
